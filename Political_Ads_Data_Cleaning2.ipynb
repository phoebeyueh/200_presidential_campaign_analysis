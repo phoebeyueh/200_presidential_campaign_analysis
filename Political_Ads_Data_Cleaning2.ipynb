{
 "cells": [
  {
   "cell_type": "markdown",
   "id": "9c987cbc-dc87-49f0-b5d1-b7f82d7a96c2",
   "metadata": {},
   "source": [
    "# Project 2: Lee, Yueh, Friar -- Political Ads Data Cleaning"
   ]
  },
  {
   "cell_type": "code",
   "execution_count": 1,
   "id": "80af5caf-71ab-4f9d-a24f-e5cd2f24e767",
   "metadata": {},
   "outputs": [],
   "source": [
    "# Starting with import statements, and reading in .csv file\n",
    "\n",
    "import sys\n",
    "import numpy as np\n",
    "import pandas as pd\n",
    "import matplotlib.pyplot as plt\n",
    "\n",
    "%matplotlib inline"
   ]
  },
  {
   "cell_type": "code",
   "execution_count": 2,
   "id": "4972d17e-de2d-466a-aa4b-789e1a108c92",
   "metadata": {},
   "outputs": [],
   "source": [
    "ads_df = pd.read_csv('political_tv_ad_archive_entire_dataset.csv')"
   ]
  },
  {
   "cell_type": "code",
   "execution_count": 3,
   "id": "40ffed6a-8d85-4297-9528-660dda4b7205",
   "metadata": {},
   "outputs": [
    {
     "name": "stdout",
     "output_type": "stream",
     "text": [
      "375350\n"
     ]
    },
    {
     "data": {
      "text/html": [
       "<div>\n",
       "<style scoped>\n",
       "    .dataframe tbody tr th:only-of-type {\n",
       "        vertical-align: middle;\n",
       "    }\n",
       "\n",
       "    .dataframe tbody tr th {\n",
       "        vertical-align: top;\n",
       "    }\n",
       "\n",
       "    .dataframe thead th {\n",
       "        text-align: right;\n",
       "    }\n",
       "</style>\n",
       "<table border=\"1\" class=\"dataframe\">\n",
       "  <thead>\n",
       "    <tr style=\"text-align: right;\">\n",
       "      <th></th>\n",
       "      <th>id</th>\n",
       "      <th>wp_identifier</th>\n",
       "      <th>network</th>\n",
       "      <th>location</th>\n",
       "      <th>program</th>\n",
       "      <th>program_type</th>\n",
       "      <th>start_time</th>\n",
       "      <th>end_time</th>\n",
       "      <th>archive_id</th>\n",
       "      <th>embed_url</th>\n",
       "      <th>sponsors</th>\n",
       "      <th>sponsor_types</th>\n",
       "      <th>race</th>\n",
       "      <th>cycle</th>\n",
       "      <th>subjects</th>\n",
       "      <th>candidates</th>\n",
       "      <th>type</th>\n",
       "      <th>message</th>\n",
       "      <th>date_created</th>\n",
       "    </tr>\n",
       "  </thead>\n",
       "  <tbody>\n",
       "    <tr>\n",
       "      <th>0</th>\n",
       "      <td>1</td>\n",
       "      <td>5643</td>\n",
       "      <td>KLAS</td>\n",
       "      <td>Las Vegas, NV</td>\n",
       "      <td>8 News Now at 5 PM</td>\n",
       "      <td>news</td>\n",
       "      <td>2016-09-09 00:12:59 UTC</td>\n",
       "      <td>2016-09-09 00:13:29 UTC</td>\n",
       "      <td>PolAd_HillaryClinton_f1h3j</td>\n",
       "      <td>https://archive.org/embed/PolAd_HillaryClinton...</td>\n",
       "      <td>Hillary for America</td>\n",
       "      <td>Multiple</td>\n",
       "      <td>PRES</td>\n",
       "      <td>2016.0</td>\n",
       "      <td>Energy, China, Jobs</td>\n",
       "      <td>Hillary Clinton</td>\n",
       "      <td>campaign</td>\n",
       "      <td>pro</td>\n",
       "      <td>2016-09-12 14:49:32</td>\n",
       "    </tr>\n",
       "    <tr>\n",
       "      <th>1</th>\n",
       "      <td>2</td>\n",
       "      <td>5643</td>\n",
       "      <td>WNCN</td>\n",
       "      <td>Raleigh-Durham-Fayetteville,  NC</td>\n",
       "      <td>North Carolina News at 500PM</td>\n",
       "      <td>news</td>\n",
       "      <td>2016-09-06 21:58:25 UTC</td>\n",
       "      <td>2016-09-06 21:58:55 UTC</td>\n",
       "      <td>PolAd_HillaryClinton_f1h3j</td>\n",
       "      <td>https://archive.org/embed/PolAd_HillaryClinton...</td>\n",
       "      <td>Hillary for America</td>\n",
       "      <td>Multiple</td>\n",
       "      <td>PRES</td>\n",
       "      <td>2016.0</td>\n",
       "      <td>Energy, China, Jobs</td>\n",
       "      <td>Hillary Clinton</td>\n",
       "      <td>campaign</td>\n",
       "      <td>pro</td>\n",
       "      <td>2016-09-12 14:49:32</td>\n",
       "    </tr>\n",
       "    <tr>\n",
       "      <th>2</th>\n",
       "      <td>3</td>\n",
       "      <td>5643</td>\n",
       "      <td>KLAS</td>\n",
       "      <td>Las Vegas, NV</td>\n",
       "      <td>Face the Nation</td>\n",
       "      <td>news</td>\n",
       "      <td>2016-09-04 16:24:25 UTC</td>\n",
       "      <td>2016-09-04 16:24:55 UTC</td>\n",
       "      <td>PolAd_HillaryClinton_f1h3j</td>\n",
       "      <td>https://archive.org/embed/PolAd_HillaryClinton...</td>\n",
       "      <td>Hillary for America</td>\n",
       "      <td>Multiple</td>\n",
       "      <td>PRES</td>\n",
       "      <td>2016.0</td>\n",
       "      <td>Energy, China, Jobs</td>\n",
       "      <td>Hillary Clinton</td>\n",
       "      <td>campaign</td>\n",
       "      <td>pro</td>\n",
       "      <td>2016-09-12 14:49:32</td>\n",
       "    </tr>\n",
       "    <tr>\n",
       "      <th>3</th>\n",
       "      <td>4</td>\n",
       "      <td>5643</td>\n",
       "      <td>WFLA</td>\n",
       "      <td>Tampa-St. Petersburg, FL</td>\n",
       "      <td>Days of Our Lives</td>\n",
       "      <td>not news</td>\n",
       "      <td>2016-08-30 17:59:20 UTC</td>\n",
       "      <td>2016-08-30 17:59:50 UTC</td>\n",
       "      <td>PolAd_HillaryClinton_f1h3j</td>\n",
       "      <td>https://archive.org/embed/PolAd_HillaryClinton...</td>\n",
       "      <td>Hillary for America</td>\n",
       "      <td>Multiple</td>\n",
       "      <td>PRES</td>\n",
       "      <td>2016.0</td>\n",
       "      <td>Energy, China, Jobs</td>\n",
       "      <td>Hillary Clinton</td>\n",
       "      <td>campaign</td>\n",
       "      <td>pro</td>\n",
       "      <td>2016-09-12 14:49:32</td>\n",
       "    </tr>\n",
       "    <tr>\n",
       "      <th>4</th>\n",
       "      <td>5</td>\n",
       "      <td>5643</td>\n",
       "      <td>KSNV</td>\n",
       "      <td>Las Vegas, NV</td>\n",
       "      <td>The Tonight Show Starring Jimmy Fallon</td>\n",
       "      <td>news</td>\n",
       "      <td>2016-09-06 07:02:22 UTC</td>\n",
       "      <td>2016-09-06 07:02:52 UTC</td>\n",
       "      <td>PolAd_HillaryClinton_f1h3j</td>\n",
       "      <td>https://archive.org/embed/PolAd_HillaryClinton...</td>\n",
       "      <td>Hillary for America</td>\n",
       "      <td>Multiple</td>\n",
       "      <td>PRES</td>\n",
       "      <td>2016.0</td>\n",
       "      <td>Energy, China, Jobs</td>\n",
       "      <td>Hillary Clinton</td>\n",
       "      <td>campaign</td>\n",
       "      <td>pro</td>\n",
       "      <td>2016-09-12 14:49:32</td>\n",
       "    </tr>\n",
       "    <tr>\n",
       "      <th>5</th>\n",
       "      <td>6</td>\n",
       "      <td>5643</td>\n",
       "      <td>WTVT</td>\n",
       "      <td>Tampa-St. Petersburg, FL</td>\n",
       "      <td>TMZ Live</td>\n",
       "      <td>not news</td>\n",
       "      <td>2016-08-30 19:55:14 UTC</td>\n",
       "      <td>2016-08-30 19:55:44 UTC</td>\n",
       "      <td>PolAd_HillaryClinton_f1h3j</td>\n",
       "      <td>https://archive.org/embed/PolAd_HillaryClinton...</td>\n",
       "      <td>Hillary for America</td>\n",
       "      <td>Multiple</td>\n",
       "      <td>PRES</td>\n",
       "      <td>2016.0</td>\n",
       "      <td>Energy, China, Jobs</td>\n",
       "      <td>Hillary Clinton</td>\n",
       "      <td>campaign</td>\n",
       "      <td>pro</td>\n",
       "      <td>2016-09-12 14:49:32</td>\n",
       "    </tr>\n",
       "    <tr>\n",
       "      <th>6</th>\n",
       "      <td>7</td>\n",
       "      <td>5643</td>\n",
       "      <td>WTOG</td>\n",
       "      <td>Tampa-St. Petersburg, FL</td>\n",
       "      <td>Justice for All With Cristina Perez</td>\n",
       "      <td>not news</td>\n",
       "      <td>2016-08-30 13:22:30 UTC</td>\n",
       "      <td>2016-08-30 13:23:00 UTC</td>\n",
       "      <td>PolAd_HillaryClinton_f1h3j</td>\n",
       "      <td>https://archive.org/embed/PolAd_HillaryClinton...</td>\n",
       "      <td>Hillary for America</td>\n",
       "      <td>Multiple</td>\n",
       "      <td>PRES</td>\n",
       "      <td>2016.0</td>\n",
       "      <td>Energy, China, Jobs</td>\n",
       "      <td>Hillary Clinton</td>\n",
       "      <td>campaign</td>\n",
       "      <td>pro</td>\n",
       "      <td>2016-09-12 14:49:32</td>\n",
       "    </tr>\n",
       "    <tr>\n",
       "      <th>7</th>\n",
       "      <td>8</td>\n",
       "      <td>5643</td>\n",
       "      <td>WLFL</td>\n",
       "      <td>Raleigh-Durham-Fayetteville,  NC</td>\n",
       "      <td>The Flash</td>\n",
       "      <td>not news</td>\n",
       "      <td>2016-09-07 00:45:00 UTC</td>\n",
       "      <td>2016-09-07 00:45:30 UTC</td>\n",
       "      <td>PolAd_HillaryClinton_f1h3j</td>\n",
       "      <td>https://archive.org/embed/PolAd_HillaryClinton...</td>\n",
       "      <td>Hillary for America</td>\n",
       "      <td>Multiple</td>\n",
       "      <td>PRES</td>\n",
       "      <td>2016.0</td>\n",
       "      <td>Energy, China, Jobs</td>\n",
       "      <td>Hillary Clinton</td>\n",
       "      <td>campaign</td>\n",
       "      <td>pro</td>\n",
       "      <td>2016-09-12 14:49:32</td>\n",
       "    </tr>\n",
       "    <tr>\n",
       "      <th>8</th>\n",
       "      <td>9</td>\n",
       "      <td>5643</td>\n",
       "      <td>WOIO</td>\n",
       "      <td>Cleveland, Ohio</td>\n",
       "      <td>Cleveland 19 News at 6PM</td>\n",
       "      <td>news</td>\n",
       "      <td>2016-08-30 22:12:59 UTC</td>\n",
       "      <td>2016-08-30 22:13:29 UTC</td>\n",
       "      <td>PolAd_HillaryClinton_f1h3j</td>\n",
       "      <td>https://archive.org/embed/PolAd_HillaryClinton...</td>\n",
       "      <td>Hillary for America</td>\n",
       "      <td>Multiple</td>\n",
       "      <td>PRES</td>\n",
       "      <td>2016.0</td>\n",
       "      <td>Energy, China, Jobs</td>\n",
       "      <td>Hillary Clinton</td>\n",
       "      <td>campaign</td>\n",
       "      <td>pro</td>\n",
       "      <td>2016-09-12 14:49:32</td>\n",
       "    </tr>\n",
       "    <tr>\n",
       "      <th>9</th>\n",
       "      <td>10</td>\n",
       "      <td>5643</td>\n",
       "      <td>WRAL</td>\n",
       "      <td>Raleigh-Durham-Fayetteville,  NC</td>\n",
       "      <td>Last Call With Carson Daly</td>\n",
       "      <td>not news</td>\n",
       "      <td>2016-08-30 05:53:01 UTC</td>\n",
       "      <td>2016-08-30 05:53:31 UTC</td>\n",
       "      <td>PolAd_HillaryClinton_f1h3j</td>\n",
       "      <td>https://archive.org/embed/PolAd_HillaryClinton...</td>\n",
       "      <td>Hillary for America</td>\n",
       "      <td>Multiple</td>\n",
       "      <td>PRES</td>\n",
       "      <td>2016.0</td>\n",
       "      <td>Energy, China, Jobs</td>\n",
       "      <td>Hillary Clinton</td>\n",
       "      <td>campaign</td>\n",
       "      <td>pro</td>\n",
       "      <td>2016-09-12 14:49:32</td>\n",
       "    </tr>\n",
       "  </tbody>\n",
       "</table>\n",
       "</div>"
      ],
      "text/plain": [
       "   id  wp_identifier network                          location  \\\n",
       "0   1           5643    KLAS                     Las Vegas, NV   \n",
       "1   2           5643    WNCN  Raleigh-Durham-Fayetteville,  NC   \n",
       "2   3           5643    KLAS                     Las Vegas, NV   \n",
       "3   4           5643    WFLA          Tampa-St. Petersburg, FL   \n",
       "4   5           5643    KSNV                     Las Vegas, NV   \n",
       "5   6           5643    WTVT          Tampa-St. Petersburg, FL   \n",
       "6   7           5643    WTOG          Tampa-St. Petersburg, FL   \n",
       "7   8           5643    WLFL  Raleigh-Durham-Fayetteville,  NC   \n",
       "8   9           5643    WOIO                   Cleveland, Ohio   \n",
       "9  10           5643    WRAL  Raleigh-Durham-Fayetteville,  NC   \n",
       "\n",
       "                                  program program_type  \\\n",
       "0                      8 News Now at 5 PM         news   \n",
       "1            North Carolina News at 500PM         news   \n",
       "2                         Face the Nation         news   \n",
       "3                       Days of Our Lives     not news   \n",
       "4  The Tonight Show Starring Jimmy Fallon         news   \n",
       "5                                TMZ Live     not news   \n",
       "6     Justice for All With Cristina Perez     not news   \n",
       "7                               The Flash     not news   \n",
       "8                Cleveland 19 News at 6PM         news   \n",
       "9              Last Call With Carson Daly     not news   \n",
       "\n",
       "                start_time                 end_time  \\\n",
       "0  2016-09-09 00:12:59 UTC  2016-09-09 00:13:29 UTC   \n",
       "1  2016-09-06 21:58:25 UTC  2016-09-06 21:58:55 UTC   \n",
       "2  2016-09-04 16:24:25 UTC  2016-09-04 16:24:55 UTC   \n",
       "3  2016-08-30 17:59:20 UTC  2016-08-30 17:59:50 UTC   \n",
       "4  2016-09-06 07:02:22 UTC  2016-09-06 07:02:52 UTC   \n",
       "5  2016-08-30 19:55:14 UTC  2016-08-30 19:55:44 UTC   \n",
       "6  2016-08-30 13:22:30 UTC  2016-08-30 13:23:00 UTC   \n",
       "7  2016-09-07 00:45:00 UTC  2016-09-07 00:45:30 UTC   \n",
       "8  2016-08-30 22:12:59 UTC  2016-08-30 22:13:29 UTC   \n",
       "9  2016-08-30 05:53:01 UTC  2016-08-30 05:53:31 UTC   \n",
       "\n",
       "                   archive_id  \\\n",
       "0  PolAd_HillaryClinton_f1h3j   \n",
       "1  PolAd_HillaryClinton_f1h3j   \n",
       "2  PolAd_HillaryClinton_f1h3j   \n",
       "3  PolAd_HillaryClinton_f1h3j   \n",
       "4  PolAd_HillaryClinton_f1h3j   \n",
       "5  PolAd_HillaryClinton_f1h3j   \n",
       "6  PolAd_HillaryClinton_f1h3j   \n",
       "7  PolAd_HillaryClinton_f1h3j   \n",
       "8  PolAd_HillaryClinton_f1h3j   \n",
       "9  PolAd_HillaryClinton_f1h3j   \n",
       "\n",
       "                                           embed_url             sponsors  \\\n",
       "0  https://archive.org/embed/PolAd_HillaryClinton...  Hillary for America   \n",
       "1  https://archive.org/embed/PolAd_HillaryClinton...  Hillary for America   \n",
       "2  https://archive.org/embed/PolAd_HillaryClinton...  Hillary for America   \n",
       "3  https://archive.org/embed/PolAd_HillaryClinton...  Hillary for America   \n",
       "4  https://archive.org/embed/PolAd_HillaryClinton...  Hillary for America   \n",
       "5  https://archive.org/embed/PolAd_HillaryClinton...  Hillary for America   \n",
       "6  https://archive.org/embed/PolAd_HillaryClinton...  Hillary for America   \n",
       "7  https://archive.org/embed/PolAd_HillaryClinton...  Hillary for America   \n",
       "8  https://archive.org/embed/PolAd_HillaryClinton...  Hillary for America   \n",
       "9  https://archive.org/embed/PolAd_HillaryClinton...  Hillary for America   \n",
       "\n",
       "  sponsor_types  race   cycle             subjects       candidates      type  \\\n",
       "0      Multiple  PRES  2016.0  Energy, China, Jobs  Hillary Clinton  campaign   \n",
       "1      Multiple  PRES  2016.0  Energy, China, Jobs  Hillary Clinton  campaign   \n",
       "2      Multiple  PRES  2016.0  Energy, China, Jobs  Hillary Clinton  campaign   \n",
       "3      Multiple  PRES  2016.0  Energy, China, Jobs  Hillary Clinton  campaign   \n",
       "4      Multiple  PRES  2016.0  Energy, China, Jobs  Hillary Clinton  campaign   \n",
       "5      Multiple  PRES  2016.0  Energy, China, Jobs  Hillary Clinton  campaign   \n",
       "6      Multiple  PRES  2016.0  Energy, China, Jobs  Hillary Clinton  campaign   \n",
       "7      Multiple  PRES  2016.0  Energy, China, Jobs  Hillary Clinton  campaign   \n",
       "8      Multiple  PRES  2016.0  Energy, China, Jobs  Hillary Clinton  campaign   \n",
       "9      Multiple  PRES  2016.0  Energy, China, Jobs  Hillary Clinton  campaign   \n",
       "\n",
       "  message         date_created  \n",
       "0     pro  2016-09-12 14:49:32  \n",
       "1     pro  2016-09-12 14:49:32  \n",
       "2     pro  2016-09-12 14:49:32  \n",
       "3     pro  2016-09-12 14:49:32  \n",
       "4     pro  2016-09-12 14:49:32  \n",
       "5     pro  2016-09-12 14:49:32  \n",
       "6     pro  2016-09-12 14:49:32  \n",
       "7     pro  2016-09-12 14:49:32  \n",
       "8     pro  2016-09-12 14:49:32  \n",
       "9     pro  2016-09-12 14:49:32  "
      ]
     },
     "execution_count": 3,
     "metadata": {},
     "output_type": "execute_result"
    }
   ],
   "source": [
    "# Looking at the data\n",
    "\n",
    "pd.set_option('display.max_columns', None)\n",
    "print(len(ads_df))\n",
    "ads_df.head(10)"
   ]
  },
  {
   "cell_type": "code",
   "execution_count": 35,
   "id": "725d03a5-e041-496a-8280-2f874c54d035",
   "metadata": {},
   "outputs": [
    {
     "name": "stdout",
     "output_type": "stream",
     "text": [
      "<class 'pandas.core.frame.DataFrame'>\n",
      "RangeIndex: 375350 entries, 0 to 375349\n",
      "Data columns (total 19 columns):\n",
      " #   Column         Non-Null Count   Dtype              \n",
      "---  ------         --------------   -----              \n",
      " 0   id             375350 non-null  int64              \n",
      " 1   wp_identifier  375350 non-null  int64              \n",
      " 2   network        375350 non-null  object             \n",
      " 3   location       375325 non-null  object             \n",
      " 4   program        375335 non-null  object             \n",
      " 5   program_type   375350 non-null  object             \n",
      " 6   start_time     375350 non-null  datetime64[ns, UTC]\n",
      " 7   end_time       375350 non-null  datetime64[ns, UTC]\n",
      " 8   archive_id     375350 non-null  object             \n",
      " 9   embed_url      375350 non-null  object             \n",
      " 10  sponsors       374188 non-null  object             \n",
      " 11  sponsor_types  374188 non-null  object             \n",
      " 12  race           345478 non-null  object             \n",
      " 13  cycle          346249 non-null  float64            \n",
      " 14  subjects       352788 non-null  object             \n",
      " 15  candidates     350223 non-null  object             \n",
      " 16  type           375350 non-null  object             \n",
      " 17  message        375350 non-null  object             \n",
      " 18  date_created   375350 non-null  object             \n",
      "dtypes: datetime64[ns, UTC](2), float64(1), int64(2), object(14)\n",
      "memory usage: 54.4+ MB\n"
     ]
    }
   ],
   "source": [
    "#change start_time, end_time to 'date' types\n",
    "ads_df['start_time'] = pd.to_datetime(ads_df['start_time'])\n",
    "ads_df['end_time'] = pd.to_datetime(ads_df['end_time'])\n",
    "ads_df.info()"
   ]
  },
  {
   "cell_type": "code",
   "execution_count": 38,
   "id": "56a99bd8",
   "metadata": {},
   "outputs": [
    {
     "data": {
      "text/plain": [
       "Donald Trump                     56297\n",
       "Hillary Clinton                  49568\n",
       "Bernie Sanders                   31886\n",
       "NaN                              25127\n",
       "Donald Trump, Hillary Clinton    22005\n",
       "Marco Rubio                      21139\n",
       "Kelly Ayotte                     10289\n",
       "Catherine Cortez Masto            9735\n",
       "Pat Toomey                        9179\n",
       "Katie McGinty                     7811\n",
       "Name: candidates, dtype: int64"
      ]
     },
     "execution_count": 38,
     "metadata": {},
     "output_type": "execute_result"
    }
   ],
   "source": [
    "ads_df['candidates'].value_counts(dropna=False).head(10)"
   ]
  },
  {
   "cell_type": "code",
   "execution_count": 7,
   "id": "63b6606c",
   "metadata": {},
   "outputs": [
    {
     "data": {
      "text/plain": [
       "con        128108\n",
       "pro        115091\n",
       "unknown     78724\n",
       "mixed       53024\n",
       "mix           403\n",
       "Name: message, dtype: int64"
      ]
     },
     "execution_count": 7,
     "metadata": {},
     "output_type": "execute_result"
    }
   ],
   "source": [
    "ads_df['message'].value_counts(dropna=False)"
   ]
  },
  {
   "cell_type": "code",
   "execution_count": 19,
   "id": "657f29eb",
   "metadata": {},
   "outputs": [
    {
     "data": {
      "text/plain": [
       "Today                                     14782\n",
       "CBS This Morning                           8344\n",
       "Good Morning America                       7896\n",
       "Judge Judy                                 5650\n",
       "Jeopardy                                   4364\n",
       "Wheel of Fortune                           4005\n",
       "The Ellen De Generes Show                  4001\n",
       "Family Feud                                3926\n",
       "Dr. Phil                                   3712\n",
       "The Late Show With Stephen Colbert         3479\n",
       "Jimmy Kimmel Live                          3430\n",
       "FOX 25 Morning News                        3375\n",
       "FOX5 News This Morning                     3283\n",
       "The Tonight Show Starring Jimmy Fallon     3268\n",
       "Inside Edition                             3202\n",
       "Steve Harvey                               2999\n",
       "ET Entertainment Tonight                   2893\n",
       "The Dr. Oz Show                            2515\n",
       "Live With Kelly                            2479\n",
       "Rachael Ray                                2462\n",
       "Name: program, dtype: int64"
      ]
     },
     "execution_count": 19,
     "metadata": {},
     "output_type": "execute_result"
    }
   ],
   "source": [
    "ads_df['program'].value_counts(dropna=False).head(20)"
   ]
  },
  {
   "cell_type": "code",
   "execution_count": 21,
   "id": "7dfe009e",
   "metadata": {},
   "outputs": [
    {
     "data": {
      "text/plain": [
       "WMUR    15940\n",
       "WCAU    11955\n",
       "KVVU    11360\n",
       "WPVI    11213\n",
       "KTNV    11067\n",
       "KYW     11057\n",
       "WHDH    10656\n",
       "KSNV    10229\n",
       "KLAS     9476\n",
       "WTXF     8761\n",
       "WBZ      8462\n",
       "WFXT     8143\n",
       "WCVB     7720\n",
       "KCRG     7675\n",
       "WFTS     7476\n",
       "WTVT     7458\n",
       "WJW      7165\n",
       "KGAN     6858\n",
       "WEWS     6374\n",
       "KWWL     6068\n",
       "Name: network, dtype: int64"
      ]
     },
     "execution_count": 21,
     "metadata": {},
     "output_type": "execute_result"
    }
   ],
   "source": [
    "ads_df['network'].value_counts(dropna=False).head(20)"
   ]
  },
  {
   "cell_type": "code",
   "execution_count": 8,
   "id": "3be32590",
   "metadata": {},
   "outputs": [
    {
     "data": {
      "text/plain": [
       "news        241923\n",
       "not news    133427\n",
       "Name: program_type, dtype: int64"
      ]
     },
     "execution_count": 8,
     "metadata": {},
     "output_type": "execute_result"
    }
   ],
   "source": [
    "ads_df['program_type'].value_counts(dropna=False)"
   ]
  },
  {
   "cell_type": "code",
   "execution_count": 9,
   "id": "5b33dead",
   "metadata": {},
   "outputs": [
    {
     "data": {
      "text/plain": [
       "campaign    374977\n",
       "issue          373\n",
       "Name: type, dtype: int64"
      ]
     },
     "execution_count": 9,
     "metadata": {},
     "output_type": "execute_result"
    }
   ],
   "source": [
    "ads_df['type'].value_counts(dropna=False)"
   ]
  },
  {
   "cell_type": "code",
   "execution_count": 13,
   "id": "65a2643c",
   "metadata": {
    "scrolled": true
   },
   "outputs": [
    {
     "data": {
      "image/png": "[encoded data removed]",
      "text/plain": [
       "<Figure size 432x288 with 1 Axes>"
      ]
     },
     "metadata": {
      "needs_background": "light"
     },
     "output_type": "display_data"
    }
   ],
   "source": [
    "#bar chart for program type distribution \n",
    "program_type=ads_df[\"program_type\"].value_counts(dropna=False)\n",
    "df=pd.DataFrame({'Program_Type':program_type.index, 'Count':program_type.values})\n",
    "plt.bar(df.Program_Type, df.Count)\n",
    "plt.xlabel(\"Program Type\")\n",
    "plt.ylabel(\"#\")\n",
    "plt.title('Distribution of Ads Program Type')\n",
    "plt.show()"
   ]
  },
  {
   "cell_type": "code",
   "execution_count": 14,
   "id": "f33868e2",
   "metadata": {},
   "outputs": [
    {
     "data": {
      "image/png": "[encoded data removed]",
      "text/plain": [
       "<Figure size 432x288 with 1 Axes>"
      ]
     },
     "metadata": {
      "needs_background": "light"
     },
     "output_type": "display_data"
    }
   ],
   "source": [
    "#bar chart for message distribution \n",
    "message=ads_df[\"message\"].value_counts(dropna=False)\n",
    "df=pd.DataFrame({'Message':message.index, 'Count':message.values})\n",
    "plt.bar(df.Message, df.Count)\n",
    "plt.xlabel(\"Message\")\n",
    "plt.ylabel(\"#\")\n",
    "plt.title('Distribution of Message Type')\n",
    "plt.show()"
   ]
  },
  {
   "cell_type": "code",
   "execution_count": 51,
   "id": "43f59264",
   "metadata": {},
   "outputs": [
    {
     "data": {
      "image/png": "[encoded data removed]",
      "text/plain": [
       "<Figure size 1080x432 with 1 Axes>"
      ]
     },
     "metadata": {
      "needs_background": "light"
     },
     "output_type": "display_data"
    }
   ],
   "source": [
    "#bar chart for candidate distribution \n",
    "candidate=ads_df['candidates'].value_counts(dropna=True).head(5)\n",
    "df=pd.DataFrame({'Candidates':candidate.index, 'Count':candidate.values})\n",
    "plt.figure(figsize=(15,6))\n",
    "plt.bar(df.Candidates, df.Count)\n",
    "plt.xlabel(\"Candidates\")\n",
    "plt.ylabel(\"#\")\n",
    "plt.title('Distribution of Candidates')\n",
    "plt.show()"
   ]
  },
  {
   "cell_type": "code",
   "execution_count": 55,
   "id": "dedb9c5c",
   "metadata": {},
   "outputs": [
    {
     "data": {
      "image/png": "[encoded data removed]",
      "text/plain": [
       "<Figure size 432x288 with 1 Axes>"
      ]
     },
     "metadata": {
      "needs_background": "light"
     },
     "output_type": "display_data"
    }
   ],
   "source": [
    "#bar chart for race distribution\n",
    "race=ads_df['race'].value_counts(dropna=True).head(10)\n",
    "df=pd.DataFrame({'Race':race.index, 'Count':race.values})\n",
    "plt.bar(df.Race, df.Count)\n",
    "plt.xlabel(\"Race\")\n",
    "plt.ylabel(\"#\")\n",
    "plt.title('Distribution of Races')\n",
    "plt.show()"
   ]
  },
  {
   "cell_type": "code",
   "execution_count": null,
   "id": "025ba5cc-a782-4269-b9dd-f8a9aefea643",
   "metadata": {},
   "outputs": [],
   "source": [
    "# Learn more about location column\n",
    "\n",
    "ads_df['location'] = ads_df['location'].astype('string') \n",
    "\n",
    "ads_df['location'].dtypes"
   ]
  },
  {
   "cell_type": "code",
   "execution_count": null,
   "id": "0ddd6b23-0849-433b-a87b-864fb8d1481e",
   "metadata": {},
   "outputs": [],
   "source": [
    "ads_df['location'].value_counts(dropna = False)"
   ]
  },
  {
   "cell_type": "code",
   "execution_count": null,
   "id": "d2ef48d7-130d-48eb-9219-3736fb86de93",
   "metadata": {},
   "outputs": [],
   "source": [
    "# Capture unique values from location column\n",
    "\n",
    "unique_locations = ads_df['location'].unique()\n",
    "\n",
    "unique_locations"
   ]
  },
  {
   "cell_type": "code",
   "execution_count": null,
   "id": "fc307ae3-4734-4338-88e1-78c73345203f",
   "metadata": {},
   "outputs": [],
   "source": [
    "# Extract states from unique location values & create dictionary to translate\n",
    "# *** Note that missing values are set as \"nan\" ***\n",
    "\n",
    "state_postal_codes = []\n",
    "\n",
    "for location in unique_locations:\n",
    "    if isinstance(location, str):\n",
    "        split_strs = location.split(',')\n",
    "        state = split_strs[-1]\n",
    "        state = state.strip()\n",
    "        state_postal_codes.append(state)\n",
    "    else:\n",
    "        state_postal_codes.append(\"nan\")\n",
    "    \n",
    "for i in range(len(state_postal_codes)):\n",
    "    if state_postal_codes[i] == \"Ohio\":\n",
    "        state_postal_codes[i] = \"OH\"\n",
    "    elif state_postal_codes[i] == \"Iowa\":\n",
    "        state_postal_codes[i] = \"IA\"\n",
    "\n",
    "mapping_locations_to_state = {}\n",
    "\n",
    "for i in range(len(state_postal_codes)):\n",
    "    mapping_locations_to_state[unique_locations[i]] = state_postal_codes[i]\n",
    "    \n",
    "mapping_locations_to_state"
   ]
  },
  {
   "cell_type": "code",
   "execution_count": null,
   "id": "a191d3a4-b855-41f1-8948-ecf5f1f61963",
   "metadata": {},
   "outputs": [],
   "source": [
    "# Create new df column of state codes\n",
    "\n",
    "states_df = ads_df['location'].replace(mapping_locations_to_state)\n",
    "\n",
    "states_df.rename(\"state\", inplace = True)"
   ]
  },
  {
   "cell_type": "code",
   "execution_count": null,
   "id": "410b8dc1-931d-409b-a098-bee6a848bb52",
   "metadata": {},
   "outputs": [],
   "source": [
    "# Add state codes column to ads_df\n",
    "\n",
    "ads_df = pd.concat([ads_df, states_df], axis=1)"
   ]
  },
  {
   "cell_type": "code",
   "execution_count": null,
   "id": "f2d57c1e-23dd-4f81-bbf4-cf0910bad941",
   "metadata": {},
   "outputs": [],
   "source": [
    "ads_df.head(10)"
   ]
  },
  {
   "cell_type": "code",
   "execution_count": null,
   "id": "60c6e576",
   "metadata": {},
   "outputs": [],
   "source": [
    "print(ads_df.shape)\n",
    "print(ads_df.head())\n",
    "print(ads_df.describe())\n",
    "types = ads_df.dtypes\n",
    "print(ads_df)\n",
    "ads_df.describe()"
   ]
  },
  {
   "cell_type": "code",
   "execution_count": null,
   "id": "db828232-67db-42af-a9a9-2e7d3ccf1966",
   "metadata": {},
   "outputs": [],
   "source": [
    "# Output cleaned .csv file\n",
    "# Note that we can keep adding steps in this workbook to improve on the cleaned file\n",
    "\n",
    "ads_df.to_csv(\"political_tv_ad_archive_CLEANED.csv\", index=False)"
   ]
  }
 ],
 "metadata": {
  "kernelspec": {
   "display_name": "Python 3 (ipykernel)",
   "language": "python",
   "name": "python3"
  },
  "language_info": {
   "codemirror_mode": {
    "name": "ipython",
    "version": 3
   },
   "file_extension": ".py",
   "mimetype": "text/x-python",
   "name": "python",
   "nbconvert_exporter": "python",
   "pygments_lexer": "ipython3",
   "version": "3.9.12"
  }
 },
 "nbformat": 4,
 "nbformat_minor": 5
}
