{
 "cells": [
  {
   "cell_type": "markdown",
   "id": "9ad00916-12a6-4f47-a2ab-be15bac1c7da",
   "metadata": {},
   "source": [
    "Focus on 2 questions: \n",
    "* How many ads from candidates were fact checked and how many were true or false? \n",
    "    * Pull this data because I think it will be interesting addition to data and part of explanation\n",
    "    * Output charts looking at details by candidates and parties (add party to data)\n",
    "    * \n",
    "* "
   ]
  }
 ],
 "metadata": {
  "kernelspec": {
   "display_name": "Python 3 (ipykernel)",
   "language": "python",
   "name": "python3"
  },
  "language_info": {
   "codemirror_mode": {
    "name": "ipython",
    "version": 3
   },
   "file_extension": ".py",
   "mimetype": "text/x-python",
   "name": "python",
   "nbconvert_exporter": "python",
   "pygments_lexer": "ipython3",
   "version": "3.10.9"
  }
 },
 "nbformat": 4,
 "nbformat_minor": 5
}
