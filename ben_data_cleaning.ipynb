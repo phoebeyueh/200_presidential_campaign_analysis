{
 "cells": [
  {
   "cell_type": "code",
   "execution_count": 1,
   "id": "261cc524-79bb-429d-83c8-926d27227f7e",
   "metadata": {},
   "outputs": [],
   "source": [
    "import sys\n",
    "import numpy as np\n",
    "import pandas as pd\n",
    "import matplotlib.pyplot as plt\n",
    "import datetime\n",
    "\n",
    "%matplotlib inline"
   ]
  },
  {
   "cell_type": "code",
   "execution_count": 4,
   "id": "3ee6eb2c-6661-49dd-8bbc-15278c849d2c",
   "metadata": {},
   "outputs": [],
   "source": [
    "ads_df = pd.read_csv('data/poltical_tv_ad_archive_entire_dataset.csv')"
   ]
  },
  {
   "cell_type": "code",
   "execution_count": 5,
   "id": "5b7f2e48-3b82-4e2c-8cf7-62d5841cc36c",
   "metadata": {},
   "outputs": [],
   "source": [
    "ads_metadata = pd.read_csv(\"data/unique_ad_metadata.csv\")"
   ]
  },
  {
   "cell_type": "code",
   "execution_count": 8,
   "id": "c550ee49-8f1a-463e-b146-f82a9d56d68f",
   "metadata": {},
   "outputs": [
    {
     "data": {
      "text/html": [
       "<div>\n",
       "<style scoped>\n",
       "    .dataframe tbody tr th:only-of-type {\n",
       "        vertical-align: middle;\n",
       "    }\n",
       "\n",
       "    .dataframe tbody tr th {\n",
       "        vertical-align: top;\n",
       "    }\n",
       "\n",
       "    .dataframe thead th {\n",
       "        text-align: right;\n",
       "    }\n",
       "</style>\n",
       "<table border=\"1\" class=\"dataframe\">\n",
       "  <thead>\n",
       "    <tr style=\"text-align: right;\">\n",
       "      <th></th>\n",
       "      <th>id</th>\n",
       "      <th>wp_identifier</th>\n",
       "      <th>network</th>\n",
       "      <th>location</th>\n",
       "      <th>program</th>\n",
       "      <th>program_type</th>\n",
       "      <th>start_time</th>\n",
       "      <th>end_time</th>\n",
       "      <th>archive_id</th>\n",
       "      <th>embed_url</th>\n",
       "      <th>sponsors</th>\n",
       "      <th>sponsor_types</th>\n",
       "      <th>race</th>\n",
       "      <th>cycle</th>\n",
       "      <th>subjects</th>\n",
       "      <th>candidates</th>\n",
       "      <th>type</th>\n",
       "      <th>message</th>\n",
       "      <th>date_created</th>\n",
       "    </tr>\n",
       "  </thead>\n",
       "  <tbody>\n",
       "    <tr>\n",
       "      <th>0</th>\n",
       "      <td>1</td>\n",
       "      <td>5643</td>\n",
       "      <td>KLAS</td>\n",
       "      <td>Las Vegas, NV</td>\n",
       "      <td>8 News Now at 5 PM</td>\n",
       "      <td>news</td>\n",
       "      <td>2016-09-09 00:12:59 UTC</td>\n",
       "      <td>2016-09-09 00:13:29 UTC</td>\n",
       "      <td>PolAd_HillaryClinton_f1h3j</td>\n",
       "      <td>https://archive.org/embed/PolAd_HillaryClinton...</td>\n",
       "      <td>Hillary for America</td>\n",
       "      <td>Multiple</td>\n",
       "      <td>PRES</td>\n",
       "      <td>2016.0</td>\n",
       "      <td>Energy, China, Jobs</td>\n",
       "      <td>Hillary Clinton</td>\n",
       "      <td>campaign</td>\n",
       "      <td>pro</td>\n",
       "      <td>2016-09-12 14:49:32</td>\n",
       "    </tr>\n",
       "    <tr>\n",
       "      <th>1</th>\n",
       "      <td>2</td>\n",
       "      <td>5643</td>\n",
       "      <td>WNCN</td>\n",
       "      <td>Raleigh-Durham-Fayetteville,  NC</td>\n",
       "      <td>North Carolina News at 500PM</td>\n",
       "      <td>news</td>\n",
       "      <td>2016-09-06 21:58:25 UTC</td>\n",
       "      <td>2016-09-06 21:58:55 UTC</td>\n",
       "      <td>PolAd_HillaryClinton_f1h3j</td>\n",
       "      <td>https://archive.org/embed/PolAd_HillaryClinton...</td>\n",
       "      <td>Hillary for America</td>\n",
       "      <td>Multiple</td>\n",
       "      <td>PRES</td>\n",
       "      <td>2016.0</td>\n",
       "      <td>Energy, China, Jobs</td>\n",
       "      <td>Hillary Clinton</td>\n",
       "      <td>campaign</td>\n",
       "      <td>pro</td>\n",
       "      <td>2016-09-12 14:49:32</td>\n",
       "    </tr>\n",
       "  </tbody>\n",
       "</table>\n",
       "</div>"
      ],
      "text/plain": [
       "   id  wp_identifier network                          location  \\\n",
       "0   1           5643    KLAS                     Las Vegas, NV   \n",
       "1   2           5643    WNCN  Raleigh-Durham-Fayetteville,  NC   \n",
       "\n",
       "                        program program_type               start_time  \\\n",
       "0            8 News Now at 5 PM         news  2016-09-09 00:12:59 UTC   \n",
       "1  North Carolina News at 500PM         news  2016-09-06 21:58:25 UTC   \n",
       "\n",
       "                  end_time                  archive_id  \\\n",
       "0  2016-09-09 00:13:29 UTC  PolAd_HillaryClinton_f1h3j   \n",
       "1  2016-09-06 21:58:55 UTC  PolAd_HillaryClinton_f1h3j   \n",
       "\n",
       "                                           embed_url             sponsors  \\\n",
       "0  https://archive.org/embed/PolAd_HillaryClinton...  Hillary for America   \n",
       "1  https://archive.org/embed/PolAd_HillaryClinton...  Hillary for America   \n",
       "\n",
       "  sponsor_types  race   cycle             subjects       candidates      type  \\\n",
       "0      Multiple  PRES  2016.0  Energy, China, Jobs  Hillary Clinton  campaign   \n",
       "1      Multiple  PRES  2016.0  Energy, China, Jobs  Hillary Clinton  campaign   \n",
       "\n",
       "  message         date_created  \n",
       "0     pro  2016-09-12 14:49:32  \n",
       "1     pro  2016-09-12 14:49:32  "
      ]
     },
     "execution_count": 8,
     "metadata": {},
     "output_type": "execute_result"
    }
   ],
   "source": [
    "ads_df.head(2)"
   ]
  },
  {
   "cell_type": "code",
   "execution_count": 9,
   "id": "0f730474-04bd-438d-8606-5e6db506641c",
   "metadata": {},
   "outputs": [
    {
     "data": {
      "text/html": [
       "<div>\n",
       "<style scoped>\n",
       "    .dataframe tbody tr th:only-of-type {\n",
       "        vertical-align: middle;\n",
       "    }\n",
       "\n",
       "    .dataframe tbody tr th {\n",
       "        vertical-align: top;\n",
       "    }\n",
       "\n",
       "    .dataframe thead th {\n",
       "        text-align: right;\n",
       "    }\n",
       "</style>\n",
       "<table border=\"1\" class=\"dataframe\">\n",
       "  <thead>\n",
       "    <tr style=\"text-align: right;\">\n",
       "      <th></th>\n",
       "      <th>wp_identifier</th>\n",
       "      <th>archive_id</th>\n",
       "      <th>embed_url</th>\n",
       "      <th>sponsors</th>\n",
       "      <th>sponsor_types</th>\n",
       "      <th>subjects</th>\n",
       "      <th>candidates</th>\n",
       "      <th>type</th>\n",
       "      <th>race</th>\n",
       "      <th>cycle</th>\n",
       "      <th>message</th>\n",
       "      <th>air_count</th>\n",
       "      <th>reference_count</th>\n",
       "      <th>market_count</th>\n",
       "      <th>transcript</th>\n",
       "      <th>date_ingested</th>\n",
       "    </tr>\n",
       "  </thead>\n",
       "  <tbody>\n",
       "    <tr>\n",
       "      <th>0</th>\n",
       "      <td>8403</td>\n",
       "      <td>PolAd_CatherineCortezMasto_jbah8</td>\n",
       "      <td>https://archive.org/embed/PolAd_CatherineCorte...</td>\n",
       "      <td>Catherine Cortez Masto for Senate</td>\n",
       "      <td>Candidate Committee</td>\n",
       "      <td>Candidate Biography, Bipartisanship, Criminal ...</td>\n",
       "      <td>Catherine Cortez Masto</td>\n",
       "      <td>campaign</td>\n",
       "      <td>NVS2</td>\n",
       "      <td>2016.0</td>\n",
       "      <td>pro</td>\n",
       "      <td>185</td>\n",
       "      <td>0</td>\n",
       "      <td>1</td>\n",
       "      <td>NaN</td>\n",
       "      <td>2016/11/17 5:03:54 UTC</td>\n",
       "    </tr>\n",
       "    <tr>\n",
       "      <th>1</th>\n",
       "      <td>8404</td>\n",
       "      <td>PolAd_DonaldTrump_kc0en</td>\n",
       "      <td>https://archive.org/embed/PolAd_DonaldTrump_kc0en</td>\n",
       "      <td>Hillary for America</td>\n",
       "      <td>Multiple</td>\n",
       "      <td>Nuclear, Candidate Biography, Military, Foreig...</td>\n",
       "      <td>Donald Trump</td>\n",
       "      <td>campaign</td>\n",
       "      <td>PRES</td>\n",
       "      <td>2016.0</td>\n",
       "      <td>con</td>\n",
       "      <td>139</td>\n",
       "      <td>0</td>\n",
       "      <td>1</td>\n",
       "      <td>NaN</td>\n",
       "      <td>2016/11/17 5:02:52 UTC</td>\n",
       "    </tr>\n",
       "    <tr>\n",
       "      <th>2</th>\n",
       "      <td>8358</td>\n",
       "      <td>PolAd_DonaldTrump_ncck5</td>\n",
       "      <td>https://archive.org/embed/PolAd_DonaldTrump_ncck5</td>\n",
       "      <td>Hillary for America</td>\n",
       "      <td>Multiple</td>\n",
       "      <td>Bankruptcy, Candidate Biography, Workers</td>\n",
       "      <td>Donald Trump</td>\n",
       "      <td>campaign</td>\n",
       "      <td>PRES</td>\n",
       "      <td>2016.0</td>\n",
       "      <td>con</td>\n",
       "      <td>195</td>\n",
       "      <td>0</td>\n",
       "      <td>2</td>\n",
       "      <td>NaN</td>\n",
       "      <td>2016/11/14 10:44:42 UTC</td>\n",
       "    </tr>\n",
       "    <tr>\n",
       "      <th>3</th>\n",
       "      <td>8359</td>\n",
       "      <td>PolAd_Guns_gv0de</td>\n",
       "      <td>https://archive.org/embed/PolAd_Guns_gv0de</td>\n",
       "      <td>National Rifle Assn</td>\n",
       "      <td>PAC</td>\n",
       "      <td>Guns</td>\n",
       "      <td>NaN</td>\n",
       "      <td>campaign</td>\n",
       "      <td>NaN</td>\n",
       "      <td>NaN</td>\n",
       "      <td>unknown</td>\n",
       "      <td>87</td>\n",
       "      <td>0</td>\n",
       "      <td>3</td>\n",
       "      <td>NaN</td>\n",
       "      <td>2016/11/14 10:44:15 UTC</td>\n",
       "    </tr>\n",
       "    <tr>\n",
       "      <th>4</th>\n",
       "      <td>8361</td>\n",
       "      <td>PolAd_Guns_Veterans_Military_z2bvd</td>\n",
       "      <td>https://archive.org/embed/PolAd_Guns_Veterans_...</td>\n",
       "      <td>National Rifle Assn</td>\n",
       "      <td>PAC</td>\n",
       "      <td>Guns, Veterans, Military</td>\n",
       "      <td>NaN</td>\n",
       "      <td>campaign</td>\n",
       "      <td>NaN</td>\n",
       "      <td>NaN</td>\n",
       "      <td>unknown</td>\n",
       "      <td>54</td>\n",
       "      <td>0</td>\n",
       "      <td>3</td>\n",
       "      <td>NaN</td>\n",
       "      <td>2016/11/14 10:43:51 UTC</td>\n",
       "    </tr>\n",
       "  </tbody>\n",
       "</table>\n",
       "</div>"
      ],
      "text/plain": [
       "   wp_identifier                          archive_id  \\\n",
       "0           8403    PolAd_CatherineCortezMasto_jbah8   \n",
       "1           8404             PolAd_DonaldTrump_kc0en   \n",
       "2           8358             PolAd_DonaldTrump_ncck5   \n",
       "3           8359                    PolAd_Guns_gv0de   \n",
       "4           8361  PolAd_Guns_Veterans_Military_z2bvd   \n",
       "\n",
       "                                           embed_url  \\\n",
       "0  https://archive.org/embed/PolAd_CatherineCorte...   \n",
       "1  https://archive.org/embed/PolAd_DonaldTrump_kc0en   \n",
       "2  https://archive.org/embed/PolAd_DonaldTrump_ncck5   \n",
       "3         https://archive.org/embed/PolAd_Guns_gv0de   \n",
       "4  https://archive.org/embed/PolAd_Guns_Veterans_...   \n",
       "\n",
       "                            sponsors        sponsor_types  \\\n",
       "0  Catherine Cortez Masto for Senate  Candidate Committee   \n",
       "1                Hillary for America             Multiple   \n",
       "2                Hillary for America             Multiple   \n",
       "3                National Rifle Assn                  PAC   \n",
       "4                National Rifle Assn                  PAC   \n",
       "\n",
       "                                            subjects              candidates  \\\n",
       "0  Candidate Biography, Bipartisanship, Criminal ...  Catherine Cortez Masto   \n",
       "1  Nuclear, Candidate Biography, Military, Foreig...            Donald Trump   \n",
       "2           Bankruptcy, Candidate Biography, Workers            Donald Trump   \n",
       "3                                               Guns                     NaN   \n",
       "4                           Guns, Veterans, Military                     NaN   \n",
       "\n",
       "       type  race   cycle  message  air_count  reference_count  market_count  \\\n",
       "0  campaign  NVS2  2016.0      pro        185                0             1   \n",
       "1  campaign  PRES  2016.0      con        139                0             1   \n",
       "2  campaign  PRES  2016.0      con        195                0             2   \n",
       "3  campaign   NaN     NaN  unknown         87                0             3   \n",
       "4  campaign   NaN     NaN  unknown         54                0             3   \n",
       "\n",
       "  transcript            date_ingested  \n",
       "0        NaN   2016/11/17 5:03:54 UTC  \n",
       "1        NaN   2016/11/17 5:02:52 UTC  \n",
       "2        NaN  2016/11/14 10:44:42 UTC  \n",
       "3        NaN  2016/11/14 10:44:15 UTC  \n",
       "4        NaN  2016/11/14 10:43:51 UTC  "
      ]
     },
     "execution_count": 9,
     "metadata": {},
     "output_type": "execute_result"
    }
   ],
   "source": [
    "ads_metadata.head()"
   ]
  },
  {
   "cell_type": "markdown",
   "id": "2b90205c-36dd-40d2-a4f1-390361cddca5",
   "metadata": {
    "tags": []
   },
   "source": [
    "# Initial Cleaning"
   ]
  },
  {
   "cell_type": "markdown",
   "id": "f6f9996d-09e3-44c5-84bd-6db2546e178e",
   "metadata": {},
   "source": [
    "Add filtering here first before adding/changing column types (reduce data size)"
   ]
  },
  {
   "cell_type": "code",
   "execution_count": 53,
   "id": "6868b954-4112-4486-ba2a-d09f58458e53",
   "metadata": {},
   "outputs": [
    {
     "data": {
      "text/plain": [
       "id                     0\n",
       "wp_identifier          0\n",
       "network                0\n",
       "location              25\n",
       "program               15\n",
       "program_type           0\n",
       "start_time             0\n",
       "end_time               0\n",
       "archive_id             0\n",
       "embed_url              0\n",
       "sponsors            1162\n",
       "sponsor_types       1162\n",
       "race               29872\n",
       "cycle              29101\n",
       "subjects           22562\n",
       "candidates         25127\n",
       "type                   0\n",
       "message                0\n",
       "date_created           0\n",
       "ad_duration_sec        0\n",
       "state                  0\n",
       "dtype: int64"
      ]
     },
     "execution_count": 53,
     "metadata": {},
     "output_type": "execute_result"
    }
   ],
   "source": [
    "# filter on dates, campaign types, potentially remove nulls\n",
    "ads_df.isnull().sum()"
   ]
  },
  {
   "cell_type": "markdown",
   "id": "01f24ff8-a93a-45db-a57f-857f3551d309",
   "metadata": {},
   "source": [
    "Variables of interest\n",
    "\n",
    "Look into and clean the following columns: \n",
    "* location\n",
    "* program_type\n",
    "* start_time\n",
    "* end_time\n",
    "* sponsors\n",
    "* candidates\n",
    "* message"
   ]
  },
  {
   "cell_type": "code",
   "execution_count": 11,
   "id": "6ebef0e5-6ee0-44ef-aad2-5fd221506319",
   "metadata": {},
   "outputs": [
    {
     "data": {
      "text/plain": [
       "id                 int64\n",
       "wp_identifier      int64\n",
       "network           object\n",
       "location          object\n",
       "program           object\n",
       "program_type      object\n",
       "start_time        object\n",
       "end_time          object\n",
       "archive_id        object\n",
       "embed_url         object\n",
       "sponsors          object\n",
       "sponsor_types     object\n",
       "race              object\n",
       "cycle            float64\n",
       "subjects          object\n",
       "candidates        object\n",
       "type              object\n",
       "message           object\n",
       "date_created      object\n",
       "dtype: object"
      ]
     },
     "execution_count": 11,
     "metadata": {},
     "output_type": "execute_result"
    }
   ],
   "source": [
    "# some columns seem to be in various datatypes as most are encapsulated in objects. \n",
    "# we may want to check and understand necessary columns\n",
    "ads_df.dtypes"
   ]
  },
  {
   "cell_type": "markdown",
   "id": "73a8554c-91bd-4a9c-8142-fc2f583421cf",
   "metadata": {
    "tags": []
   },
   "source": [
    "### Add Ad Duration column"
   ]
  },
  {
   "cell_type": "code",
   "execution_count": 21,
   "id": "b9bd4591-0bd4-4d68-9834-3eb9f3d3532b",
   "metadata": {},
   "outputs": [],
   "source": [
    "# change start_time, end_time to \"datetime\" objects\n",
    "ads_df['start_time'] = pd.to_datetime(ads_df['start_time'])\n",
    "ads_df['end_time'] = pd.to_datetime(ads_df['end_time'])\n",
    "\n",
    "# create a column for ad duration in seconds of each ad shown\n",
    "ads_df['ad_duration_sec'] = (ads_df.end_time - ads_df.start_time).dt.total_seconds()"
   ]
  },
  {
   "cell_type": "code",
   "execution_count": 24,
   "id": "6ce05115-d5de-4bed-9a3c-6517ff3a5fa4",
   "metadata": {},
   "outputs": [
    {
     "data": {
      "text/plain": [
       "30.0    285854\n",
       "60.0     20621\n",
       "31.0     18143\n",
       "29.0     16814\n",
       "32.0     16761\n",
       "Name: ad_duration_sec, dtype: int64"
      ]
     },
     "execution_count": 24,
     "metadata": {},
     "output_type": "execute_result"
    }
   ],
   "source": [
    "# top 5 ad durations\n",
    "ads_df.ad_duration_sec.value_counts().head()"
   ]
  },
  {
   "cell_type": "markdown",
   "id": "cd9a32dc-33b5-4f48-95c1-900b4f3bca4d",
   "metadata": {
    "tags": []
   },
   "source": [
    "### Add State column"
   ]
  },
  {
   "cell_type": "code",
   "execution_count": 59,
   "id": "ef3c2570-b16a-4cbb-b94a-2acdea4e28f6",
   "metadata": {},
   "outputs": [
    {
     "data": {
      "text/plain": [
       "Boston, MA/Manchester, NH                            50920\n",
       "Philadelphia, PA                                     44326\n",
       "Las Vegas, NV                                        42131\n",
       "Ceder Rapids-Waterloo-Iowa City-Dublin, Iowa         24580\n",
       "Tampa-St. Petersburg, FL                             24207\n",
       "Cleveland, Ohio                                      23156\n",
       "San Francisco-Oakland-San Jose, CA                   20944\n",
       "Des Moines-Ames, Iowa                                17726\n",
       "Raleigh-Durham-Fayetteville,  NC                     17437\n",
       "Milwaukee, WI                                        15423\n",
       "Sioux City, Iowa                                     12906\n",
       "Phoenix-Prescott, AZ                                 12900\n",
       "Washington, DC/Hagerstown, MD                        12325\n",
       "Denver, CO                                           10901\n",
       "Columbia, SC                                         10870\n",
       "Greenville-Spartanburg, SC/Asheville-Anderson, NC     8565\n",
       "Reno, NV                                              6032\n",
       "Orlando-Daytona Beach-Melbourne, FL                   4899\n",
       "Cincinnati, OH                                        4031\n",
       "Miami-Fort Lauderdale, FL                             2548\n",
       "Charlotte, NC                                         2530\n",
       "New York City, NY                                     2013\n",
       "Norfolk-Portsmouth-Newport News, NC                   1506\n",
       "Colorado Springs-Pueblo, CO                           1481\n",
       "Roanoke-Lynchburg, VA                                  968\n",
       "Name: location, dtype: Int64"
      ]
     },
     "execution_count": 59,
     "metadata": {},
     "output_type": "execute_result"
    }
   ],
   "source": [
    "# Convert location to strings\n",
    "ads_df['location'] = ads_df['location'].astype('string')\n",
    "ads_df.location.value_counts()"
   ]
  },
  {
   "cell_type": "code",
   "execution_count": 57,
   "id": "3a0a5f61-ac6d-463d-b352-f278742c0c54",
   "metadata": {},
   "outputs": [
    {
     "name": "stdout",
     "output_type": "stream",
     "text": [
      "['NV' 'NC' 'FL' 'Ohio' 'Iowa' 'PA' 'CO' 'WI' 'CA' 'AZ' 'NH' 'MD' 'NY' 'OH'\n",
      " 'SC' 'VA' 'None']\n",
      "17\n"
     ]
    }
   ],
   "source": [
    "# extract states from locations since we care only about that\n",
    "states = ads_df.location.apply(lambda x : x.split(',')[-1].replace(\" \", \"\") if type(x) == str else 'None')\n",
    "print(states.unique())\n",
    "print(len(states.unique()))\n",
    "# we see Ohio and Iowa not having correct state abbreviation "
   ]
  },
  {
   "cell_type": "code",
   "execution_count": 35,
   "id": "404ab619-7507-4e1d-9df8-218fbc3b3bf4",
   "metadata": {},
   "outputs": [],
   "source": [
    "def correct_state(st): \n",
    "    ''' Function to correct state names for Ohio and Iowa'''\n",
    "    if st == 'Ohio': \n",
    "        return 'OH'\n",
    "    elif st == 'Iowa':\n",
    "        return 'IA'\n",
    "    else: \n",
    "        return st"
   ]
  },
  {
   "cell_type": "code",
   "execution_count": 58,
   "id": "b8834e09-4773-422f-bc5d-b5eb7e2d39bc",
   "metadata": {},
   "outputs": [
    {
     "name": "stdout",
     "output_type": "stream",
     "text": [
      "['NV' 'NC' 'FL' 'OH' 'IA' 'PA' 'CO' 'WI' 'CA' 'AZ' 'NH' 'MD' 'NY' 'SC'\n",
      " 'VA' 'None']\n",
      "16\n"
     ]
    }
   ],
   "source": [
    "# correct poor format states\n",
    "states = states.apply(lambda x : correct_state(x))\n",
    "print(states.unique())\n",
    "print(len(states.unique()))"
   ]
  },
  {
   "cell_type": "code",
   "execution_count": 50,
   "id": "4dfdb3e4-534a-4a12-bd05-0c371c6b4346",
   "metadata": {},
   "outputs": [
    {
     "data": {
      "text/plain": [
       "IA    55212\n",
       "NH    50920\n",
       "NV    48163\n",
       "PA    44326\n",
       "FL    31654\n",
       "Name: state, dtype: int64"
      ]
     },
     "execution_count": 50,
     "metadata": {},
     "output_type": "execute_result"
    }
   ],
   "source": [
    "# add states column to our data\n",
    "ads_df['state'] = states\n",
    "ads_df.state.value_counts().head()"
   ]
  },
  {
   "cell_type": "markdown",
   "id": "662848f7-d10c-42f9-abb1-a12dbb8ab633",
   "metadata": {},
   "source": [
    "* We can see Iowa is the state with the most ads shown"
   ]
  },
  {
   "cell_type": "markdown",
   "id": "961f40b2-4814-4b7e-af93-e4e8f08f86de",
   "metadata": {},
   "source": [
    "### Join Ads Metadata to identify fact checked ads"
   ]
  },
  {
   "cell_type": "markdown",
   "id": "88591bd5-07af-4862-9d64-8307f7c632db",
   "metadata": {},
   "source": [
    "descriptions of metadata columns can be found here: http://politicaladarchive.org/data/\n",
    "\n",
    "important columns to add on: \n",
    "* reference_count - how many partner orgs fact checked ad\n",
    "* air_count - how many times ad aired total for States the Internet Archive is tracking (incudes all airings, not just paid airings)\n",
    "* market_count - how different markets the ad aired in \n",
    "* transcript - in case we want to do some NLP on the ad message"
   ]
  },
  {
   "cell_type": "code",
   "execution_count": 83,
   "id": "e5e54790-919c-4a30-8cc0-5f244648ce1c",
   "metadata": {},
   "outputs": [],
   "source": [
    "# archive_id seems to be the primary key to join on \n",
    "cols = ['archive_id', 'reference_count', 'air_count', 'market_count', 'transcript']\n",
    "merge_df = ads_df.merge(ads_metadata[cols], how='left', on='archive_id')\n",
    "# create binary flag on whether or not an ad was factchecked\n",
    "merge_df['fact_checked'] = merge_df.reference_count.apply(lambda x : 1 if x > 0 else 0)"
   ]
  },
  {
   "cell_type": "code",
   "execution_count": 79,
   "id": "85f0dec6-b89f-43ba-a06f-4baae432a016",
   "metadata": {},
   "outputs": [
    {
     "data": {
      "text/html": [
       "<div>\n",
       "<style scoped>\n",
       "    .dataframe tbody tr th:only-of-type {\n",
       "        vertical-align: middle;\n",
       "    }\n",
       "\n",
       "    .dataframe tbody tr th {\n",
       "        vertical-align: top;\n",
       "    }\n",
       "\n",
       "    .dataframe thead th {\n",
       "        text-align: right;\n",
       "    }\n",
       "</style>\n",
       "<table border=\"1\" class=\"dataframe\">\n",
       "  <thead>\n",
       "    <tr style=\"text-align: right;\">\n",
       "      <th></th>\n",
       "      <th>id</th>\n",
       "      <th>wp_identifier</th>\n",
       "      <th>network</th>\n",
       "      <th>location</th>\n",
       "      <th>program</th>\n",
       "      <th>program_type</th>\n",
       "      <th>start_time</th>\n",
       "      <th>end_time</th>\n",
       "      <th>archive_id</th>\n",
       "      <th>embed_url</th>\n",
       "      <th>...</th>\n",
       "      <th>type</th>\n",
       "      <th>message</th>\n",
       "      <th>date_created</th>\n",
       "      <th>ad_duration_sec</th>\n",
       "      <th>state</th>\n",
       "      <th>reference_count</th>\n",
       "      <th>air_count</th>\n",
       "      <th>market_count</th>\n",
       "      <th>transcript</th>\n",
       "      <th>flag_fact_checked</th>\n",
       "    </tr>\n",
       "  </thead>\n",
       "  <tbody>\n",
       "    <tr>\n",
       "      <th>0</th>\n",
       "      <td>1</td>\n",
       "      <td>5643</td>\n",
       "      <td>KLAS</td>\n",
       "      <td>Las Vegas, NV</td>\n",
       "      <td>8 News Now at 5 PM</td>\n",
       "      <td>news</td>\n",
       "      <td>2016-09-09 00:12:59+00:00</td>\n",
       "      <td>2016-09-09 00:13:29+00:00</td>\n",
       "      <td>PolAd_HillaryClinton_f1h3j</td>\n",
       "      <td>https://archive.org/embed/PolAd_HillaryClinton...</td>\n",
       "      <td>...</td>\n",
       "      <td>campaign</td>\n",
       "      <td>pro</td>\n",
       "      <td>2016-09-12 14:49:32</td>\n",
       "      <td>30.0</td>\n",
       "      <td>NV</td>\n",
       "      <td>0</td>\n",
       "      <td>1916</td>\n",
       "      <td>6</td>\n",
       "      <td>IThere's a race going on right approve tnow.me...</td>\n",
       "      <td>0</td>\n",
       "    </tr>\n",
       "    <tr>\n",
       "      <th>1</th>\n",
       "      <td>2</td>\n",
       "      <td>5643</td>\n",
       "      <td>WNCN</td>\n",
       "      <td>Raleigh-Durham-Fayetteville,  NC</td>\n",
       "      <td>North Carolina News at 500PM</td>\n",
       "      <td>news</td>\n",
       "      <td>2016-09-06 21:58:25+00:00</td>\n",
       "      <td>2016-09-06 21:58:55+00:00</td>\n",
       "      <td>PolAd_HillaryClinton_f1h3j</td>\n",
       "      <td>https://archive.org/embed/PolAd_HillaryClinton...</td>\n",
       "      <td>...</td>\n",
       "      <td>campaign</td>\n",
       "      <td>pro</td>\n",
       "      <td>2016-09-12 14:49:32</td>\n",
       "      <td>30.0</td>\n",
       "      <td>NC</td>\n",
       "      <td>0</td>\n",
       "      <td>1916</td>\n",
       "      <td>6</td>\n",
       "      <td>IThere's a race going on right approve tnow.me...</td>\n",
       "      <td>0</td>\n",
       "    </tr>\n",
       "  </tbody>\n",
       "</table>\n",
       "<p>2 rows × 26 columns</p>\n",
       "</div>"
      ],
      "text/plain": [
       "   id  wp_identifier network                          location  \\\n",
       "0   1           5643    KLAS                     Las Vegas, NV   \n",
       "1   2           5643    WNCN  Raleigh-Durham-Fayetteville,  NC   \n",
       "\n",
       "                        program program_type                start_time  \\\n",
       "0            8 News Now at 5 PM         news 2016-09-09 00:12:59+00:00   \n",
       "1  North Carolina News at 500PM         news 2016-09-06 21:58:25+00:00   \n",
       "\n",
       "                   end_time                  archive_id  \\\n",
       "0 2016-09-09 00:13:29+00:00  PolAd_HillaryClinton_f1h3j   \n",
       "1 2016-09-06 21:58:55+00:00  PolAd_HillaryClinton_f1h3j   \n",
       "\n",
       "                                           embed_url  ...      type message  \\\n",
       "0  https://archive.org/embed/PolAd_HillaryClinton...  ...  campaign     pro   \n",
       "1  https://archive.org/embed/PolAd_HillaryClinton...  ...  campaign     pro   \n",
       "\n",
       "          date_created  ad_duration_sec state reference_count air_count  \\\n",
       "0  2016-09-12 14:49:32             30.0    NV               0      1916   \n",
       "1  2016-09-12 14:49:32             30.0    NC               0      1916   \n",
       "\n",
       "  market_count                                         transcript  \\\n",
       "0            6  IThere's a race going on right approve tnow.me...   \n",
       "1            6  IThere's a race going on right approve tnow.me...   \n",
       "\n",
       "   flag_fact_checked  \n",
       "0                  0  \n",
       "1                  0  \n",
       "\n",
       "[2 rows x 26 columns]"
      ]
     },
     "execution_count": 79,
     "metadata": {},
     "output_type": "execute_result"
    }
   ],
   "source": [
    "merge_df.head(2)"
   ]
  },
  {
   "cell_type": "code",
   "execution_count": 91,
   "id": "49ea817f-daaa-4f7e-acd1-ee20dd9d37a7",
   "metadata": {},
   "outputs": [
    {
     "data": {
      "text/html": [
       "<div>\n",
       "<style scoped>\n",
       "    .dataframe tbody tr th:only-of-type {\n",
       "        vertical-align: middle;\n",
       "    }\n",
       "\n",
       "    .dataframe tbody tr th {\n",
       "        vertical-align: top;\n",
       "    }\n",
       "\n",
       "    .dataframe thead th {\n",
       "        text-align: right;\n",
       "    }\n",
       "</style>\n",
       "<table border=\"1\" class=\"dataframe\">\n",
       "  <thead>\n",
       "    <tr style=\"text-align: right;\">\n",
       "      <th></th>\n",
       "      <th>candidates</th>\n",
       "      <th>fact_checked</th>\n",
       "      <th>id</th>\n",
       "    </tr>\n",
       "  </thead>\n",
       "  <tbody>\n",
       "    <tr>\n",
       "      <th>46</th>\n",
       "      <td>Donald Trump</td>\n",
       "      <td>1</td>\n",
       "      <td>13826</td>\n",
       "    </tr>\n",
       "    <tr>\n",
       "      <th>95</th>\n",
       "      <td>Hillary Clinton</td>\n",
       "      <td>1</td>\n",
       "      <td>11764</td>\n",
       "    </tr>\n",
       "    <tr>\n",
       "      <th>51</th>\n",
       "      <td>Donald Trump, Hillary Clinton</td>\n",
       "      <td>1</td>\n",
       "      <td>9100</td>\n",
       "    </tr>\n",
       "    <tr>\n",
       "      <th>12</th>\n",
       "      <td>Bernie Sanders</td>\n",
       "      <td>1</td>\n",
       "      <td>6960</td>\n",
       "    </tr>\n",
       "    <tr>\n",
       "      <th>139</th>\n",
       "      <td>Marco Rubio</td>\n",
       "      <td>1</td>\n",
       "      <td>2558</td>\n",
       "    </tr>\n",
       "  </tbody>\n",
       "</table>\n",
       "</div>"
      ],
      "text/plain": [
       "                        candidates  fact_checked     id\n",
       "46                    Donald Trump             1  13826\n",
       "95                 Hillary Clinton             1  11764\n",
       "51   Donald Trump, Hillary Clinton             1   9100\n",
       "12                  Bernie Sanders             1   6960\n",
       "139                    Marco Rubio             1   2558"
      ]
     },
     "execution_count": 91,
     "metadata": {},
     "output_type": "execute_result"
    }
   ],
   "source": [
    "# how many times did a candidates run a fact checked ad\n",
    "fc = merge_df.groupby(['candidates', 'fact_checked']).agg({'id':'count'}).reset_index(drop=False)\n",
    "fc[fc.fact_checked == 1].sort_values('id', ascending = False).head()"
   ]
  },
  {
   "cell_type": "markdown",
   "id": "805c3cfc-52be-4ec7-9a3c-9b4de6abcd55",
   "metadata": {},
   "source": [
    "* Donald Trump ran the most fact checked ads\n",
    "* Candidate value that includes both Trump and Clinton? does it need cleaning? check ads metadata"
   ]
  },
  {
   "cell_type": "code",
   "execution_count": null,
   "id": "d9ee3d95-0ea5-4a62-a098-22668c815ab4",
   "metadata": {},
   "outputs": [
    {
     "data": {
      "text/html": [
       "<div>\n",
       "<style scoped>\n",
       "    .dataframe tbody tr th:only-of-type {\n",
       "        vertical-align: middle;\n",
       "    }\n",
       "\n",
       "    .dataframe tbody tr th {\n",
       "        vertical-align: top;\n",
       "    }\n",
       "\n",
       "    .dataframe thead th {\n",
       "        text-align: right;\n",
       "    }\n",
       "</style>\n",
       "<table border=\"1\" class=\"dataframe\">\n",
       "  <thead>\n",
       "    <tr style=\"text-align: right;\">\n",
       "      <th></th>\n",
       "      <th>candidates</th>\n",
       "      <th>fact_checked</th>\n",
       "      <th>message</th>\n",
       "      <th>id</th>\n",
       "    </tr>\n",
       "  </thead>\n",
       "  <tbody>\n",
       "    <tr>\n",
       "      <th>61</th>\n",
       "      <td>Donald Trump</td>\n",
       "      <td>1</td>\n",
       "      <td>con</td>\n",
       "      <td>10676</td>\n",
       "    </tr>\n",
       "    <tr>\n",
       "      <th>71</th>\n",
       "      <td>Donald Trump, Hillary Clinton</td>\n",
       "      <td>1</td>\n",
       "      <td>mixed</td>\n",
       "      <td>8954</td>\n",
       "    </tr>\n",
       "    <tr>\n",
       "      <th>130</th>\n",
       "      <td>Hillary Clinton</td>\n",
       "      <td>1</td>\n",
       "      <td>pro</td>\n",
       "      <td>6551</td>\n",
       "    </tr>\n",
       "    <tr>\n",
       "      <th>18</th>\n",
       "      <td>Bernie Sanders</td>\n",
       "      <td>1</td>\n",
       "      <td>unknown</td>\n",
       "      <td>5083</td>\n",
       "    </tr>\n",
       "    <tr>\n",
       "      <th>62</th>\n",
       "      <td>Donald Trump</td>\n",
       "      <td>1</td>\n",
       "      <td>pro</td>\n",
       "      <td>3150</td>\n",
       "    </tr>\n",
       "  </tbody>\n",
       "</table>\n",
       "</div>"
      ],
      "text/plain": [
       "                        candidates  fact_checked  message     id\n",
       "61                    Donald Trump             1      con  10676\n",
       "71   Donald Trump, Hillary Clinton             1    mixed   8954\n",
       "130                Hillary Clinton             1      pro   6551\n",
       "18                  Bernie Sanders             1  unknown   5083\n",
       "62                    Donald Trump             1      pro   3150"
      ]
     },
     "execution_count": 90,
     "metadata": {},
     "output_type": "execute_result"
    }
   ],
   "source": [
    "# what was the messaging type for fact checked ads run? \n",
    "fc = merge_df.groupby(['candidates', 'fact_checked', 'message']).agg({'id':'count'}).reset_index(drop=False)\n",
    "fc[fc.fact_checked == 1].sort_values('id', ascending = False).head()"
   ]
  },
  {
   "cell_type": "markdown",
   "id": "6c677dd0-2404-454c-a5c8-60ed51a2f06e",
   "metadata": {},
   "source": [
    "* Most of trumps ads that were ran had negative messaging"
   ]
  },
  {
   "cell_type": "code",
   "execution_count": null,
   "id": "d5cd2175-e936-40c8-8fac-32599d07a638",
   "metadata": {},
   "outputs": [],
   "source": []
  }
 ],
 "metadata": {
  "kernelspec": {
   "display_name": "Python 3 (ipykernel)",
   "language": "python",
   "name": "python3"
  },
  "language_info": {
   "codemirror_mode": {
    "name": "ipython",
    "version": 3
   },
   "file_extension": ".py",
   "mimetype": "text/x-python",
   "name": "python",
   "nbconvert_exporter": "python",
   "pygments_lexer": "ipython3",
   "version": "3.10.9"
  }
 },
 "nbformat": 4,
 "nbformat_minor": 5
}
